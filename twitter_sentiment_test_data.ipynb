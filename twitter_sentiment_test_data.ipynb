{
 "cells": [
  {
   "cell_type": "code",
   "execution_count": null,
   "metadata": {},
   "outputs": [],
   "source": [
    "import numpy as np\n",
    "import pandas as pd\n",
    "import re\n",
    "import nltk\n",
    "import csv\n",
    "import pickle"
   ]
  },
  {
   "cell_type": "code",
   "execution_count": null,
   "metadata": {},
   "outputs": [],
   "source": [
    "with open('test_data.csv', encoding=\"utf8\", errors='ignore') as f:\n",
    "      test_data = f.read()\n"
   ]
  },
  {
   "cell_type": "code",
   "execution_count": null,
   "metadata": {},
   "outputs": [],
   "source": [
    "##please run the below hashed codes if you are using the livetwitter data\n",
    "##we need to format the data to a DataFrame incase we are using the livetwitter feed\n",
    "#test_data= test_data.replace('{\"tweet\":', \" \")"
   ]
  },
  {
   "cell_type": "code",
   "execution_count": null,
   "metadata": {},
   "outputs": [],
   "source": [
    "# def Convert(str1): \n",
    "#     li = list(str1.split(\"\\n\")) \n",
    "#     return li \n",
    "# str1 = test_data\n",
    "# test_data=Convert(str1)"
   ]
  },
  {
   "cell_type": "code",
   "execution_count": null,
   "metadata": {},
   "outputs": [],
   "source": [
    "# test_data=pd.DataFrame(test_data)\n",
    "# test_data.columns=[\"tweet\"]\n"
   ]
  },
  {
   "cell_type": "code",
   "execution_count": null,
   "metadata": {},
   "outputs": [],
   "source": [
    "def remove_pattern(input_txt,pattern):\n",
    "    r=re.findall(pattern,input_txt)\n",
    "    for i in r:\n",
    "        input_txt= re.sub(i,'',input_txt)\n",
    "    return input_txt"
   ]
  },
  {
   "cell_type": "code",
   "execution_count": null,
   "metadata": {},
   "outputs": [],
   "source": [
    "test_data['tweet']=np.vectorize(remove_pattern)(test_data['tweet'],\"@[\\w]*\")\n",
    "test_data['tweet'] = test_data['tweet'].str.replace(\"[^a-zA-Z#]\", \" \")\n",
    "test_data['tweet']=test_data['tweet'].apply (lambda x: ' '.join(r for r in x.split() if len(r)>3))\n",
    "tokenized_tweet= test_data['tweet'].apply(lambda x: x.split())\n",
    "\n"
   ]
  },
  {
   "cell_type": "code",
   "execution_count": null,
   "metadata": {},
   "outputs": [],
   "source": [
    "from nltk.stem.porter import *\n",
    "stemmer = PorterStemmer()\n",
    "tokenized_tweet = tokenized_tweet.apply(lambda x: [stemmer.stem(i) for i in x]) \n",
    "tokenized_tweet.head()"
   ]
  },
  {
   "cell_type": "code",
   "execution_count": null,
   "metadata": {},
   "outputs": [],
   "source": [
    "for i in range(len(tokenized_tweet)):\n",
    "    tokenized_tweet[i] = ' '.join(tokenized_tweet[i])\n",
    "\n",
    "test_data['tweet'] = tokenized_tweet"
   ]
  },
  {
   "cell_type": "code",
   "execution_count": null,
   "metadata": {},
   "outputs": [],
   "source": [
    "from sklearn.feature_extraction.text import CountVectorizer\n",
    "\n",
    "bow_vectorizer = CountVectorizer(max_df=0.90, min_df=2, max_features=1000, stop_words='english')\n",
    "bow = bow_vectorizer.fit_transform(test_data['tweet'])"
   ]
  },
  {
   "cell_type": "code",
   "execution_count": null,
   "metadata": {},
   "outputs": [],
   "source": [
    "bow"
   ]
  },
  {
   "cell_type": "code",
   "execution_count": null,
   "metadata": {},
   "outputs": [],
   "source": [
    "loaded_model = pickle.load(open('finalized_model.sav', 'rb'))\n",
    "\n",
    "prediction = loaded_model.predict_proba(bow)\n",
    "prediction = prediction[:,1] >= 0.3 \n",
    "prediction = prediction.astype(np.int)\n",
    "test_data['predicted_label']=prediction\n"
   ]
  },
  {
   "cell_type": "code",
   "execution_count": null,
   "metadata": {},
   "outputs": [],
   "source": [
    "test_data.to_csv('rf1024.csv', index=False)"
   ]
  },
  {
   "cell_type": "code",
   "execution_count": null,
   "metadata": {},
   "outputs": [],
   "source": [
    "import matplotlib.pyplot as plt\n",
    "import seaborn as sns\n",
    "\n",
    "all_words = ' '.join([text for text in test_data['tweet']])\n",
    "from wordcloud import WordCloud\n",
    "\n",
    "wordcloud = WordCloud(width=600, height=500, random_state=10, max_font_size=100).generate(all_words)\n",
    "\n",
    "plt.figure(figsize=(10, 7))\n",
    "plt.imshow(wordcloud, interpolation=\"bilinear\")"
   ]
  },
  {
   "cell_type": "code",
   "execution_count": null,
   "metadata": {},
   "outputs": [],
   "source": [
    "positive_words = ' '.join([text for text in test_data['tweet'][test_data['predicted_label']==0]])\n",
    "\n",
    "wordcloud = WordCloud(width=600, height=500, random_state=10, max_font_size=100).generate(positive_words)\n",
    "\n",
    "plt.figure(figsize=(10, 7))\n",
    "plt.imshow(wordcloud, interpolation=\"bilinear\")"
   ]
  },
  {
   "cell_type": "code",
   "execution_count": null,
   "metadata": {},
   "outputs": [],
   "source": [
    "negative_words = ' '.join([text for text in test_data['tweet'][test_data['predicted_label']==1]])\n",
    "\n",
    "wordcloud = WordCloud(width=600, height=500, random_state=10, max_font_size=100).generate(negative_words)\n",
    "\n",
    "plt.figure(figsize=(10, 7))\n",
    "plt.imshow(wordcloud, interpolation=\"bilinear\")"
   ]
  },
  {
   "cell_type": "code",
   "execution_count": null,
   "metadata": {},
   "outputs": [],
   "source": [
    "def hashtag(x):\n",
    "    hashtags=[]\n",
    "    for i in x:\n",
    "        r=re.findall(r'#(\\w+)',i)\n",
    "        hashtags.append(r)\n",
    "    return hashtags"
   ]
  },
  {
   "cell_type": "code",
   "execution_count": null,
   "metadata": {},
   "outputs": [],
   "source": [
    "hashtag_neutral=hashtag(test_data['tweet'][test_data['predicted_label']==0])\n",
    "hashtag_negative=hashtag(test_data['tweet'][test_data['predicted_label']==1])"
   ]
  },
  {
   "cell_type": "code",
   "execution_count": null,
   "metadata": {},
   "outputs": [],
   "source": [
    "hashtag_extract_neutral=sum(hashtag_neutral,[])\n",
    "hashtag_extract_negative=sum(hashtag_negative,[])\n"
   ]
  },
  {
   "cell_type": "code",
   "execution_count": null,
   "metadata": {},
   "outputs": [],
   "source": [
    "fd_neutral = nltk.FreqDist(hashtag_extract_neutral)\n",
    "fd_table_neutral = pd.DataFrame({'Hashtag': list(fd_neutral.keys()),\n",
    "                  'Count': list(fd_neutral.values())})"
   ]
  },
  {
   "cell_type": "code",
   "execution_count": null,
   "metadata": {},
   "outputs": [],
   "source": [
    "fd_neutral_largest = fd_table_neutral.nlargest(columns=\"Count\", n=10)\n",
    "plt.figure(figsize=(13, 7))\n",
    "ax = sns.barplot(data=fd_neutral_largest, x=\"Hashtag\", y=\"Count\")"
   ]
  },
  {
   "cell_type": "code",
   "execution_count": null,
   "metadata": {},
   "outputs": [],
   "source": [
    "fd_negative = nltk.FreqDist(hashtag_extract_negative)\n",
    "fd_table_negative = pd.DataFrame({'Hashtag': list(fd_negative.keys()),\n",
    "                  'Count': list(fd_negative.values())})\n",
    "fd_negative_largest = fd_table_negative.nlargest(columns=\"Count\", n=10)\n",
    "plt.figure(figsize=(13, 7))\n",
    "ax = sns.barplot(data=fd_negative_largest, x=\"Hashtag\", y=\"Count\")"
   ]
  },
  {
   "cell_type": "code",
   "execution_count": null,
   "metadata": {},
   "outputs": [],
   "source": []
  }
 ],
 "metadata": {
  "kernelspec": {
   "display_name": "Python 3",
   "language": "python",
   "name": "python3"
  },
  "language_info": {
   "codemirror_mode": {
    "name": "ipython",
    "version": 3
   },
   "file_extension": ".py",
   "mimetype": "text/x-python",
   "name": "python",
   "nbconvert_exporter": "python",
   "pygments_lexer": "ipython3",
   "version": "3.7.3"
  }
 },
 "nbformat": 4,
 "nbformat_minor": 2
}
